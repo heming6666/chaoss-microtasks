{
 "cells": [
  {
   "cell_type": "markdown",
   "metadata": {},
   "source": [
    "# Microtask 2\n",
    "Create a Python script to execute Perceval via its Python interface using the Git and GitHub backends. Feel free to select any target repository.\n",
    "\n",
    "Target repo selected: `https://github.com/hypertrons/hypertrons`.\n",
    "\n",
    "## Git Backend"
   ]
  },
  {
   "cell_type": "code",
   "execution_count": 1,
   "metadata": {},
   "outputs": [],
   "source": [
    "from perceval.backends.core.git import Git\n",
    "from pprint import pprint"
   ]
  },
  {
   "cell_type": "code",
   "execution_count": 2,
   "metadata": {},
   "outputs": [],
   "source": [
    "# url for the git repo to analyze\n",
    "REPO_URL = \"https://github.com/hypertrons/hypertrons.git\"\n",
    "# directory for letting Perceval clone the git repo\n",
    "REPO_DIR = \"./tmp/hypertrons\""
   ]
  },
  {
   "cell_type": "code",
   "execution_count": 6,
   "metadata": {},
   "outputs": [
    {
     "name": "stdout",
     "output_type": "stream",
     "text": [
      "Number of commits:  170\n"
     ]
    }
   ],
   "source": [
    "# create a Git object, pointing to repo_url, using repo_dir for cloning\n",
    "repo = Git(uri=REPO_URL, gitpath=REPO_DIR)\n",
    "# fetch all commits as an iterator, and iterate it printing each hash\n",
    "commits = repo.fetch()\n",
    "# count the commits\n",
    "commits_list = list(commits)\n",
    "commits_amount = len(commits_list)\n",
    "print(\"NUMBER OF COMMITS:: \", commits_amount)"
   ]
  },
  {
   "cell_type": "code",
   "execution_count": 4,
   "metadata": {},
   "outputs": [
    {
     "name": "stdout",
     "output_type": "stream",
     "text": [
      "{'backend_name': 'Git',\n",
      " 'backend_version': '0.12.0',\n",
      " 'category': 'commit',\n",
      " 'classified_fields_filtered': None,\n",
      " 'data': {'Author': 'GoodMeowing '\n",
      "                    '<36814673+GoodMeowing@users.noreply.github.com>',\n",
      "          'AuthorDate': 'Thu Mar 26 12:10:01 2020 +0800',\n",
      "          'Commit': 'GitHub <noreply@github.com>',\n",
      "          'CommitDate': 'Thu Mar 26 04:10:01 2020 +0000',\n",
      "          'Signed-off-by': ['pantang <729618421@qq.com>'],\n",
      "          'commit': '06af85499c84494412bc4033a1272b6c994fe3a4',\n",
      "          'files': [{'action': 'M',\n",
      "                     'added': '1',\n",
      "                     'file': 'app/plugin/gitee/gitee-app.ts',\n",
      "                     'indexes': ['f727536...', '6bf5b30...'],\n",
      "                     'modes': ['100644', '100644'],\n",
      "                     'removed': '1'},\n",
      "                    {'action': 'C056',\n",
      "                     'added': '10',\n",
      "                     'file': 'app/plugin/gitee/gitee-raw-client/gitee-raw-client.ts',\n",
      "                     'indexes': ['a1ccfe6...', '6903639...'],\n",
      "                     'modes': ['100644', '100644'],\n",
      "                     'newfile': 'app/plugin/ph-manager/app.ts',\n",
      "                     'removed': '19'},\n",
      "                    {'action': 'M',\n",
      "                     'added': '26',\n",
      "                     'file': 'app/plugin/gitee/gitee-raw-client/issues.ts',\n",
      "                     'indexes': ['e24b8ed...', '955ab5f...'],\n",
      "                     'modes': ['100644', '100644'],\n",
      "                     'removed': '23'},\n",
      "                    {'action': 'M',\n",
      "                     'added': '14',\n",
      "                     'file': 'app/plugin/gitee/gitee-raw-client/pulls.ts',\n",
      "                     'indexes': ['ee07690...', '371d55b...'],\n",
      "                     'modes': ['100644', '100644'],\n",
      "                     'removed': '11'},\n",
      "                    {'action': 'M',\n",
      "                     'added': '14',\n",
      "                     'file': 'app/plugin/gitee/gitee-raw-client/repos.ts',\n",
      "                     'indexes': ['d16666b...', '66b6cd6...'],\n",
      "                     'modes': ['100644', '100644'],\n",
      "                     'removed': '11'},\n",
      "                    {'action': 'M',\n",
      "                     'added': '8',\n",
      "                     'file': 'app/plugin/gitee/gitee-raw-client/webhooks.ts',\n",
      "                     'indexes': ['349fc1b...', 'b8007bd...'],\n",
      "                     'modes': ['100644', '100644'],\n",
      "                     'removed': '5'},\n",
      "                    {'action': 'A',\n",
      "                     'added': '39',\n",
      "                     'file': 'app/plugin/ph-manager/AppPHManager.ts',\n",
      "                     'indexes': ['0000000...', '8169ca7...'],\n",
      "                     'modes': ['000000', '100644'],\n",
      "                     'removed': '0'},\n",
      "                    {'action': 'A',\n",
      "                     'added': '42',\n",
      "                     'file': 'app/plugin/ph-manager/config/config.default.ts',\n",
      "                     'indexes': ['0000000...', 'e9fd113...'],\n",
      "                     'modes': ['000000', '100644'],\n",
      "                     'removed': '0'},\n",
      "                    {'action': 'A',\n",
      "                     'added': '7',\n",
      "                     'file': 'app/plugin/ph-manager/package.json',\n",
      "                     'indexes': ['0000000...', '7bf7f01...'],\n",
      "                     'modes': ['000000', '100644'],\n",
      "                     'removed': '0'},\n",
      "                    {'action': 'A',\n",
      "                     'added': '144',\n",
      "                     'file': 'app/plugin/ph-manager/ph-config.ts',\n",
      "                     'indexes': ['0000000...', '4b14e3e...'],\n",
      "                     'modes': ['000000', '100644'],\n",
      "                     'removed': '0'},\n",
      "                    {'action': 'A',\n",
      "                     'added': '53',\n",
      "                     'file': 'app/plugin/ph-manager/promise-handler.ts',\n",
      "                     'indexes': ['0000000...', '0f3f3c6...'],\n",
      "                     'modes': ['000000', '100644'],\n",
      "                     'removed': '0'},\n",
      "                    {'action': 'M',\n",
      "                     'added': '5',\n",
      "                     'file': 'config/plugin.ts',\n",
      "                     'indexes': ['09bcad6...', 'dee7d88...'],\n",
      "                     'modes': ['100644', '100644'],\n",
      "                     'removed': '0'},\n",
      "                    {'action': 'M',\n",
      "                     'added': '23',\n",
      "                     'file': 'globalConfigTemplate.json',\n",
      "                     'indexes': ['e3e7715...', 'a4c6e0c...'],\n",
      "                     'modes': ['100644', '100644'],\n",
      "                     'removed': '0'},\n",
      "                    {'action': 'M',\n",
      "                     'added': '24',\n",
      "                     'file': 'package-lock.json',\n",
      "                     'indexes': ['106e12c...', '612177a...'],\n",
      "                     'modes': ['100644', '100644'],\n",
      "                     'removed': '3'},\n",
      "                    {'action': 'M',\n",
      "                     'added': '3',\n",
      "                     'file': 'package.json',\n",
      "                     'indexes': ['ecced9b...', 'aa23cf1...'],\n",
      "                     'modes': ['100644', '100644'],\n",
      "                     'removed': '0'},\n",
      "                    {'action': 'A',\n",
      "                     'added': '104',\n",
      "                     'file': 'test/plugin/ph-manager/promise-handler.test.ts',\n",
      "                     'indexes': ['0000000...', '62621e9...'],\n",
      "                     'modes': ['000000', '100644'],\n",
      "                     'removed': '0'}],\n",
      "          'message': 'feat: add global promise handler (#292)\\n'\n",
      "                     '\\n'\n",
      "                     'Signed-off-by: pantang <729618421@qq.com>',\n",
      "          'parents': ['caf0789b5a60f7f3ccdeb5fada3d756d7012d27c'],\n",
      "          'refs': ['HEAD', 'refs/heads/master']},\n",
      " 'origin': 'https://github.com/hypertrons/hypertrons.git',\n",
      " 'perceval_version': '0.13.0',\n",
      " 'search_fields': {'item_id': '06af85499c84494412bc4033a1272b6c994fe3a4'},\n",
      " 'tag': 'https://github.com/hypertrons/hypertrons.git',\n",
      " 'timestamp': 1585309293.922096,\n",
      " 'updated_on': 1585195801.0,\n",
      " 'uuid': '1b2341f1d18e07579b413826dce75addaafa04b0'}\n"
     ]
    }
   ],
   "source": [
    "# print the last commit\n",
    "last_commit = commits_list[commits_amount - 1]\n",
    "pprint(last_commit)"
   ]
  },
  {
   "cell_type": "code",
   "execution_count": 7,
   "metadata": {},
   "outputs": [
    {
     "name": "stdout",
     "output_type": "stream",
     "text": [
      "COMMIT DATE: Tue Feb 25 03:35:02 2020 +0000\n",
      "AUTHOR: Frank Zhao <syzhao1988@126.com>\n",
      "COMMIT MESSAGE: docs: add ci badge into README (#273)\n",
      "\n",
      "Signed-off-by: Frankzhaopku <syzhao1988@126.com>\n",
      "\n",
      "COMMIT DATE: Tue Feb 25 14:15:01 2020 +0000\n",
      "AUTHOR: WSL <wsl6@outlook.com>\n",
      "COMMIT MESSAGE: refactor: fix configuration update bug, fix add repo bug (#276)\n",
      "\n",
      "Signed-off-by: WuShaoling <wsl6@outlook.com>\n",
      "\n",
      "COMMIT DATE: Wed Feb 26 03:00:02 2020 +0000\n",
      "AUTHOR: heming <lhming23@outlook.com>\n",
      "COMMIT MESSAGE: docs: improve contributing guide (#268) (#278)\n",
      "\n",
      "Signed-off-by: LinHaiming <lhming23@outlook.com>\n",
      "\n",
      "COMMIT DATE: Wed Feb 26 11:35:01 2020 +0000\n",
      "AUTHOR: WSL <wsl6@outlook.com>\n",
      "COMMIT MESSAGE: refactor: format repoData after receive event (#279)\n",
      "\n",
      "Signed-off-by: WuShaoling <wsl6@outlook.com>\n",
      "\n",
      "COMMIT DATE: Wed Feb 26 15:20:01 2020 +0000\n",
      "AUTHOR: WSL <wsl6@outlook.com>\n",
      "COMMIT MESSAGE: refactor: disable remark-lint-no-dead-urls (#280)\n",
      "\n",
      "Signed-off-by: WuShaoling <wsl6@outlook.com>\n",
      "\n",
      "COMMIT DATE: Tue Mar 3 09:15:01 2020 +0000\n",
      "AUTHOR: heming <lhming23@outlook.com>\n",
      "COMMIT MESSAGE: docs: add pull request template (#255) (#286)\n",
      "\n",
      "Signed-off-by: LinHaiming <lhming23@outlook.com>\n",
      "\n",
      "COMMIT DATE: Mon Mar 23 15:05:02 2020 +0000\n",
      "AUTHOR: GoodMeowing <36814673+GoodMeowing@users.noreply.github.com>\n",
      "COMMIT MESSAGE: refactor: enable load components from git URL (#283)\n",
      "\n",
      "Signed-off-by: pantang <729618421@qq.com>\n",
      "\n",
      "COMMIT DATE: Wed Mar 25 16:40:34 2020 +0800\n",
      "AUTHOR: WuShaoling <wsl6@outlook.com>\n",
      "COMMIT MESSAGE: refactor: fine-grained github actions steps\n",
      "\n",
      "Signed-off-by: WuShaoling <wsl6@outlook.com>\n",
      "\n",
      "COMMIT DATE: Wed Mar 25 08:50:01 2020 +0000\n",
      "AUTHOR: WSL <wsl6@outlook.com>\n",
      "COMMIT MESSAGE: Enhanced the configuration of weekly-report component (#291)\n",
      "\n",
      "* refactor: fine-grained github actions steps\n",
      "\n",
      "Signed-off-by: WuShaoling <wsl6@outlook.com>\n",
      "\n",
      "* refactor: define weekly-report receiver\n",
      "\n",
      "Signed-off-by: WuShaoling <wsl6@outlook.com>\n",
      "\n",
      "COMMIT DATE: Thu Mar 26 04:10:01 2020 +0000\n",
      "AUTHOR: GoodMeowing <36814673+GoodMeowing@users.noreply.github.com>\n",
      "COMMIT MESSAGE: feat: add global promise handler (#292)\n",
      "\n",
      "Signed-off-by: pantang <729618421@qq.com>\n",
      "\n"
     ]
    }
   ],
   "source": [
    "# print CommitDate, Author, Commit Message from the last 10 commits\n",
    "for commit in commits_list[-10:]:\n",
    "    print(\"COMMIT DATE: {commit_date}\\nAUTHOR: {author_name}\\nCOMMIT MESSAGE: {commit_message}\".format(commit_date=commit[\"data\"][\"CommitDate\"], author_name=commit[\"data\"][\"Author\"], commit_message=commit[\"data\"][\"message\"]))\n",
    "    print()"
   ]
  },
  {
   "cell_type": "markdown",
   "metadata": {},
   "source": [
    "## Github Backend"
   ]
  },
  {
   "cell_type": "code",
   "execution_count": 8,
   "metadata": {},
   "outputs": [],
   "source": [
    "from perceval.backends.core.github import ( GitHub, \n",
    "                                            CATEGORY_ISSUE, CATEGORY_PULL_REQUEST)\n",
    "from datetime import datetime\n",
    "import json "
   ]
  },
  {
   "cell_type": "code",
   "execution_count": 9,
   "metadata": {},
   "outputs": [],
   "source": [
    "#GitHub API Token\n",
    "API_TOKENS = [\"xxxxx\"]\n",
    "\n",
    "OWNER = \"hypertrons\"\n",
    "REPO_NAME = \"hypertrons\"\n",
    "\n",
    "# Initializing the GitHub backend\n",
    "github_backend = GitHub(owner = OWNER,\n",
    "                        repository = REPO_NAME,\n",
    "                        api_token = API_TOKENS,\n",
    "                        sleep_for_rate = True)"
   ]
  },
  {
   "cell_type": "code",
   "execution_count": 10,
   "metadata": {},
   "outputs": [
    {
     "name": "stdout",
     "output_type": "stream",
     "text": [
      "hypertrons\n",
      "hypertrons\n",
      "https://github.com/hypertrons/hypertrons\n",
      "['issue', 'pull_request', 'repository']\n"
     ]
    }
   ],
   "source": [
    "# print some basic information\n",
    "print(github_backend.owner)\n",
    "print(github_backend.repository)\n",
    "print(github_backend.origin)\n",
    "print(github_backend.categories)"
   ]
  },
  {
   "cell_type": "markdown",
   "metadata": {},
   "source": [
    "#### Fetch Issues"
   ]
  },
  {
   "cell_type": "code",
   "execution_count": 13,
   "metadata": {},
   "outputs": [
    {
     "name": "stdout",
     "output_type": "stream",
     "text": [
      "NUMBER OF ISSUES: 216\n"
     ]
    }
   ],
   "source": [
    "# Datetime range\n",
    "from_date = datetime(2019,11,11)\n",
    "to_date = datetime(2020,2,2)\n",
    "\n",
    "# Call fetch() method to fetch ISSUEs information from the github repository\n",
    "issues = github_backend.fetch(\n",
    "    category = 'issue', \n",
    "    from_date = from_date,\n",
    "    to_date = to_date\n",
    "    )\n",
    "\n",
    "issues_list = list(issues)\n",
    "issues_count = len(issues_list)\n",
    "print(\"NUMBER OF ISSUES:\", issues_count)"
   ]
  },
  {
   "cell_type": "code",
   "execution_count": 14,
   "metadata": {},
   "outputs": [
    {
     "name": "stdout",
     "output_type": "stream",
     "text": [
      "Attributes of issue JSON document: \n",
      "dict_keys(['backend_name', 'backend_version', 'perceval_version', 'timestamp', 'origin', 'uuid', 'updated_on', 'classified_fields_filtered', 'category', 'search_fields', 'tag', 'data'])\n"
     ]
    }
   ],
   "source": [
    "last_issue = issues_list[issues_count-1]\n",
    "print(\"Attributes of issue JSON document: \")\n",
    "print(last_issue.keys())\n",
    "\n",
    "# dump the data to JSON file\n",
    "with open(\"issue.json\", \"w\") as write_file:\n",
    "    json.dump(last_issue, write_file)"
   ]
  },
  {
   "cell_type": "markdown",
   "metadata": {},
   "source": [
    "#### Fetch Pull Requests"
   ]
  },
  {
   "cell_type": "code",
   "execution_count": 15,
   "metadata": {},
   "outputs": [
    {
     "name": "stdout",
     "output_type": "stream",
     "text": [
      "NUMBER OF PULL REQUESTS: 148\n"
     ]
    }
   ],
   "source": [
    "# Fetch Pull Requests\n",
    "prs = github_backend.fetch(\n",
    "    category = 'pull_request', \n",
    "    from_date = from_date,\n",
    "    to_date = to_date\n",
    "    )\n",
    "\n",
    "prs_list = list(prs)\n",
    "prs_count = len(prs_list)\n",
    "print(\"NUMBER OF PULL REQUESTS:\", prs_count)"
   ]
  },
  {
   "cell_type": "code",
   "execution_count": 16,
   "metadata": {},
   "outputs": [
    {
     "name": "stdout",
     "output_type": "stream",
     "text": [
      "Attributes of pull request JSON document: \n",
      "dict_keys(['backend_name', 'backend_version', 'perceval_version', 'timestamp', 'origin', 'uuid', 'updated_on', 'classified_fields_filtered', 'category', 'search_fields', 'tag', 'data'])\n"
     ]
    }
   ],
   "source": [
    "last_pr = prs_list[prs_count-1]\n",
    "print(\"Attributes of pull request JSON document: \")\n",
    "print(last_pr.keys())\n",
    "\n",
    "# dump the data to JSON file\n",
    "with open(\"pull_request.json\", \"w\") as write_file:\n",
    "    json.dump(last_pr, write_file)"
   ]
  },
  {
   "cell_type": "code",
   "execution_count": null,
   "metadata": {},
   "outputs": [],
   "source": []
  }
 ],
 "metadata": {
  "kernelspec": {
   "display_name": "Python 3",
   "language": "python",
   "name": "python3"
  },
  "language_info": {
   "codemirror_mode": {
    "name": "ipython",
    "version": 3
   },
   "file_extension": ".py",
   "mimetype": "text/x-python",
   "name": "python",
   "nbconvert_exporter": "python",
   "pygments_lexer": "ipython3",
   "version": "3.6.8"
  }
 },
 "nbformat": 4,
 "nbformat_minor": 4
}